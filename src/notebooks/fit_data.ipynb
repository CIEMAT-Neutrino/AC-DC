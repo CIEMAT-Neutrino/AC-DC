{
 "cells": [
  {
   "cell_type": "code",
   "execution_count": 2,
   "metadata": {},
   "outputs": [],
   "source": [
    "import sys; sys.path.insert(0, '../../'); from lib import *\n",
    "root = get_project_root()"
   ]
  },
  {
   "cell_type": "code",
   "execution_count": 5,
   "metadata": {},
   "outputs": [],
   "source": [
    "numbers = [225]\n",
    "labels = ['SET1']\n",
    "ovs = [7]\n",
    "chs = [2]\n",
    "for n, label, ov, ch in product(numbers, labels, ovs, chs):\n",
    "    this_file = f'{root}/analysis/{n}/{label}/{n}_{label}_DC_data_{ov}_{ch}.csv'\n",
    "    try:\n",
    "        df = pd.read_csv(this_file)\n",
    "        df[\"Number\"] = n\n",
    "        df[\"Set\"] = label\n",
    "        df[\"OV\"] = ov\n",
    "        df[\"Channel\"] = ch\n",
    "        fit_SiPM_response(df, filter_data=False, save=True)\n",
    "\n",
    "    except FileNotFoundError:\n",
    "        rprint(f'File not found: {this_file}')\n",
    "        pass"
   ]
  }
 ],
 "metadata": {
  "kernelspec": {
   "display_name": "Python 3",
   "language": "python",
   "name": "python3"
  },
  "language_info": {
   "codemirror_mode": {
    "name": "ipython",
    "version": 3
   },
   "file_extension": ".py",
   "mimetype": "text/x-python",
   "name": "python",
   "nbconvert_exporter": "python",
   "pygments_lexer": "ipython3",
   "version": "3.6.8"
  }
 },
 "nbformat": 4,
 "nbformat_minor": 2
}
