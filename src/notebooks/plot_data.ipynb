{
 "cells": [
  {
   "cell_type": "code",
   "execution_count": null,
   "metadata": {},
   "outputs": [],
   "source": [
    "import sys\n",
    "sys.path.insert(0, '../../')\n",
    "from lib import *"
   ]
  },
  {
   "cell_type": "code",
   "execution_count": null,
   "metadata": {},
   "outputs": [],
   "source": [
    "numbers = [\"225\"]\n",
    "labels = ['SET1']\n",
    "ovs = [7]\n",
    "chs = [2]\n",
    "df = load_data(numbers, labels, ovs, chs, path=f'{root}/analysis', debug=True)"
   ]
  },
  {
   "cell_type": "code",
   "execution_count": null,
   "metadata": {},
   "outputs": [],
   "source": [
    "mean = df.groupby(['Number','Set','Channel','OV']).mean()\n",
    "display(mean)"
   ]
  },
  {
   "cell_type": "code",
   "execution_count": null,
   "metadata": {},
   "outputs": [],
   "source": [
    "fig = px.histogram(df,x=\"LogDeltaT\",facet_col=\"OV\",facet_row=\"Number\")\n",
    "fig = format_coustom_plotly(fig,tickformat=(\"0.2s\",None),add_units=True)\n",
    "fig.show()"
   ]
  },
  {
   "cell_type": "code",
   "execution_count": null,
   "metadata": {},
   "outputs": [],
   "source": [
    "fig = px.histogram(df,x=\"Amplitude\",facet_col=\"OV\",facet_row=\"Number\",color=\"Cluster\", color_discrete_sequence=px.colors.qualitative.Prism)\n",
    "fig = format_coustom_plotly(fig,tickformat=(\"0.2s\",None),log=(False,True),add_units=True)\n",
    "fig.show()\n"
   ]
  },
  {
   "cell_type": "code",
   "execution_count": null,
   "metadata": {},
   "outputs": [],
   "source": [
    "fig = px.scatter(df,x=\"DeltaT\",y=\"Amplitude\",facet_col=\"OV\", facet_row=\"Number\", color=\"Cluster\", color_discrete_sequence=px.colors.qualitative.Prism)\n",
    "fig = format_coustom_plotly(fig,log=(True,False),tickformat=(\"0.2s\",None),add_units=True)\n",
    "fig.show()"
   ]
  }
 ],
 "metadata": {
  "kernelspec": {
   "display_name": "Python 3",
   "language": "python",
   "name": "python3"
  },
  "language_info": {
   "codemirror_mode": {
    "name": "ipython",
    "version": 3
   },
   "file_extension": ".py",
   "mimetype": "text/x-python",
   "name": "python",
   "nbconvert_exporter": "python",
   "pygments_lexer": "ipython3",
   "version": "3.6.8"
  }
 },
 "nbformat": 4,
 "nbformat_minor": 2
}
