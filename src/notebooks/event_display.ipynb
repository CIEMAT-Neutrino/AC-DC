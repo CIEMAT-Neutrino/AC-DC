{
 "cells": [
  {
   "cell_type": "code",
   "execution_count": null,
   "metadata": {},
   "outputs": [],
   "source": [
    "import sys\n",
    "sys.path.insert(0, '../../')\n",
    "from lib import *"
   ]
  },
  {
   "cell_type": "code",
   "execution_count": null,
   "metadata": {},
   "outputs": [],
   "source": [
    "data_type = 'DC'\n",
    "path=f'{root}/data/225/SET1/{data_type}/C1--OV7**'\n",
    "file_list = load_files(path)\n",
    "file_sampling = 4e-9 # seconds\n",
    "debug = False\n",
    "\n",
    "# Print size of the files\n",
    "file_size = sum([os.path.getsize(file)/(1024*1024) for file in file_list])\n",
    "print(f'\\nTotal size: {file_size:.2e} MB ({file_size/len(file_list):.2e} MB per file)')"
   ]
  },
  {
   "cell_type": "code",
   "execution_count": null,
   "metadata": {},
   "outputs": [],
   "source": [
    "if data_type == \"DC\":\n",
    "    ADCs, _ = merge_processed_files(file_list, data=data_type, width=3, height=0.001, polarity=1, debug=debug)\n",
    "elif data_type == \"SPE\":\n",
    "    ADCs, _ = merge_processed_files(file_list, data=data_type, width=3, height=0.001, polarity=1, header=5, segments=0, debug=debug)"
   ]
  },
  {
   "cell_type": "code",
   "execution_count": null,
   "metadata": {},
   "outputs": [],
   "source": [
    "peak_finder_settings = {\n",
    "    'height': 0.01,\n",
    "    'distance': 40,\n",
    "    'width': 20,\n",
    "}\n",
    "\n",
    "i = np.random.randint(0, len(ADCs))\n",
    "peaks, values = find_peaks(ADCs[i], height=peak_finder_settings['height'], distance=peak_finder_settings['distance'], width=peak_finder_settings['width'])\n",
    "\n",
    "fig = px.line(x=file_sampling*np.arange(len(ADCs[i])),y=ADCs[i],line_shape='hvh')\n",
    "fig.add_trace(go.Scatter(x=file_sampling*np.array(peaks),y=[ADCs[i][p] for p in peaks],mode='markers',name='Peaks'))\n",
    "\n",
    "fig = format_coustom_plotly(fig, title=f\"Wvf. {i} Peak Finder Settings: {peak_finder_settings}\", tickformat=('.1e','.1s'), log = (False, False), ranges=(None, None), debug=debug)\n",
    "fig.update_xaxes(title_text='Time [s]')\n",
    "fig.update_yaxes(title_text='Amplitude [V]')\n",
    "fig.show()"
   ]
  }
 ],
 "metadata": {
  "kernelspec": {
   "display_name": ".venv",
   "language": "python",
   "name": "python3"
  },
  "language_info": {
   "codemirror_mode": {
    "name": "ipython",
    "version": 3
   },
   "file_extension": ".py",
   "mimetype": "text/x-python",
   "name": "python",
   "nbconvert_exporter": "python",
   "pygments_lexer": "ipython3",
   "version": "3.6.8"
  }
 },
 "nbformat": 4,
 "nbformat_minor": 2
}
